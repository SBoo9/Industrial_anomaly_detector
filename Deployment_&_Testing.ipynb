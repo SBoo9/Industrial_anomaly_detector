{
 "cells": [
  {
   "cell_type": "code",
   "execution_count": 1,
   "id": "141c30f7-607a-42c4-87eb-3e63c0f8bf32",
   "metadata": {},
   "outputs": [],
   "source": [
    "from fastapi import FastAPI\n",
    "from pydantic import BaseModel\n",
    "import joblib\n",
    "import numpy as np\n",
    "import pandas as pd\n",
    "from sklearn.decomposition import PCA\n",
    "import matplotlib.pyplot as plt \n",
    "import io \n",
    "import base64"
   ]
  },
  {
   "cell_type": "code",
   "execution_count": 2,
   "id": "ac184e09-5f15-46d3-944b-fe52fedf82a3",
   "metadata": {},
   "outputs": [],
   "source": [
    "app=FastAPI()"
   ]
  },
  {
   "cell_type": "code",
   "execution_count": 3,
   "id": "78befbbc-aeab-4bc1-a7b7-4a907179e661",
   "metadata": {},
   "outputs": [],
   "source": [
    "# Load Isolation Forest model\n",
    "clf = joblib.load('isolation_forest.pkl')\n",
    "\n",
    "# Load PCA model\n",
    "pca = joblib.load('pca.pkl')\n",
    "\n",
    "# Load Autoencoder model\n",
    "from tensorflow.keras.models import load_model\n",
    "autoencoder = load_model('my_mdl.h5',compile=False)\n"
   ]
  },
  {
   "cell_type": "code",
   "execution_count": 4,
   "id": "4b5bc0c1-3389-41d5-bb7b-cbdf550308dd",
   "metadata": {},
   "outputs": [],
   "source": [
    "autoencoder.compile(optimizer='adam', loss='mse')"
   ]
  },
  {
   "cell_type": "code",
   "execution_count": 5,
   "id": "888d0a60-99aa-49c2-9913-c381dc6d7ebb",
   "metadata": {},
   "outputs": [],
   "source": [
    "class InputData(BaseModel):\n",
    "    timestamp:list\n",
    "    temperature:list\n",
    "    vibration:list\n",
    "    pressure:list\n",
    "    humidity:list\n",
    "    machine_id:list"
   ]
  },
  {
   "cell_type": "code",
   "execution_count": 6,
   "id": "8c2867a6-012d-4da0-b8b3-b5f389e42cfb",
   "metadata": {},
   "outputs": [],
   "source": [
    "# Function to preprocess the data and generate the PCA plot\n",
    "def preprocess_and_plot(df):\n",
    "    # Drop columns not needed for the model\n",
    "    required_features = [\n",
    "        # List all features used during model training\n",
    "        \"temperature\", \"vibration\", \"pressure\", \"humidity\",\n",
    "        # Include any additional features like lag features, rolling stats, etc.\n",
    "        # Example: \"temp_lag_1\", \"vibration_mean_rolling\", \"hour_cos\", etc.\n",
    "    ]\n",
    "    \n",
    "    # Ensure the input data has the required features\n",
    "    missing_features = set(required_features) - set(df.columns)\n",
    "    if missing_features:\n",
    "        raise ValueError(f\"Input data is missing required features: {missing_features}\")\n",
    "    \n",
    "    # Keep only the required features\n",
    "    X_scaled = df[required_features]\n",
    "\n",
    "    # Predict anomalies using Isolation Forest\n",
    "    anomaly_predictions = clf.predict(X_scaled)\n",
    "    anomaly_predictions = np.where(anomaly_predictions == -1, 1, 0)  # 1: Anomaly, 0: Normal\n",
    "\n",
    "    # Transform data using PCA\n",
    "    X_pca = pca.transform(X_scaled)\n",
    "\n",
    "    # Create PCA plot\n",
    "    plt.figure(figsize=(10, 6))\n",
    "    scatter = plt.scatter(\n",
    "        X_pca[:, 0],\n",
    "        X_pca[:, 1],\n",
    "        c=anomaly_predictions,\n",
    "        cmap='coolwarm',\n",
    "        edgecolor='k',\n",
    "        s=20\n",
    "    )\n",
    "    plt.title(\"PCA Visualization of Anomalies\")\n",
    "    plt.xlabel(\"PCA Component 1\")\n",
    "    plt.ylabel(\"PCA Component 2\")\n",
    "    plt.colorbar(scatter, label=\"Anomaly (1) or Normal (0)\")\n",
    "\n",
    "    # Save plot to BytesIO\n",
    "    img_io = io.BytesIO()\n",
    "    plt.savefig(img_io, format='png')\n",
    "    img_io.seek(0)\n",
    "    img_str = base64.b64encode(img_io.getvalue()).decode('utf-8')\n",
    "    plt.close()\n",
    "\n",
    "    return img_str\n"
   ]
  },
  {
   "cell_type": "code",
   "execution_count": 7,
   "id": "9f6dfd4e-8371-4fc5-8788-bbe5acdb61a3",
   "metadata": {},
   "outputs": [],
   "source": [
    "# Function to preprocess input data\n",
    "def preprocess_input_data(df):\n",
    "    # Ensure required columns are present\n",
    "    required_columns = [\"timestamp\", \"temperature\", \"vibration\", \"pressure\", \"humidity\", \"machine_id\"]\n",
    "    missing_columns = set(required_columns) - set(df.columns)\n",
    "    if missing_columns:\n",
    "        raise ValueError(f\"Missing required columns in input data: {missing_columns}\")\n",
    "    \n",
    "    # Convert timestamp to datetime\n",
    "    df['timestamp'] = pd.to_datetime(df['timestamp'])\n",
    "\n",
    "    # Add lag features\n",
    "    for lag in range(1, 4):\n",
    "        df[f'temperature_lag_{lag}'] = df['temperature'].shift(lag).fillna(df['temperature'].iloc[0])\n",
    "        df[f'vibration_lag_{lag}'] = df['vibration'].shift(lag).fillna(df['vibration'].iloc[0])\n",
    "        df[f'pressure_lag_{lag}'] = df['pressure'].shift(lag).fillna(df['pressure'].iloc[0])\n",
    "        df[f'humidity_lag_{lag}'] = df['humidity'].shift(lag).fillna(df['humidity'].iloc[0])\n",
    "    \n",
    "    # Add rolling statistics (window size 3 used as an example)\n",
    "    window_size = 3\n",
    "    for col in ['temperature', 'vibration', 'pressure', 'humidity']:\n",
    "        df[f'{col}_rolling_mean'] = df[col].rolling(window=window_size).mean().fillna(df[col])\n",
    "        df[f'{col}_rolling_std'] = df[col].rolling(window=window_size).std().fillna(0)\n",
    "        df[f'{col}_rolling_min'] = df[col].rolling(window=window_size).min().fillna(df[col])\n",
    "        df[f'{col}_rolling_max'] = df[col].rolling(window=window_size).max().fillna(df[col])\n",
    "        df[f'{col}_rolling_kurtosis'] = df[col].rolling(window=window_size).kurt().fillna(0)\n",
    "        df[f'{col}_rolling_skew'] = df[col].rolling(window=window_size).skew().fillna(0)\n",
    "    \n",
    "    # Add time-based features\n",
    "    df['hour'] = df['timestamp'].dt.hour\n",
    "    df['day_of_week'] = df['timestamp'].dt.dayofweek\n",
    "    df['hour_sin'] = np.sin(2 * np.pi * df['hour'] / 24)\n",
    "    df['hour_cos'] = np.cos(2 * np.pi * df['hour'] / 24)\n",
    "    df['dayofweek_sin'] = np.sin(2 * np.pi * df['day_of_week'] / 7)\n",
    "    df['dayofweek_cos'] = np.cos(2 * np.pi * df['day_of_week'] / 7)\n",
    "    \n",
    "    # Drop unnecessary columns (if needed)\n",
    "    df.drop(columns=['timestamp', 'machine_id'], inplace=True, errors='ignore')\n",
    "    \n",
    "    return df"
   ]
  },
  {
   "cell_type": "code",
   "execution_count": 8,
   "id": "db34ace6-ca92-4cdf-b5f1-2bbc615df603",
   "metadata": {},
   "outputs": [],
   "source": [
    "@app.post(\"/analyze\")\n",
    "async def analyze(data: InputData):\n",
    "    try:\n",
    "        # Convert input to DataFrame\n",
    "        df = pd.DataFrame(data.dict())\n",
    "\n",
    "        # Generate PCA plot\n",
    "        pca_plot = preprocess_and_plot(df)\n",
    "\n",
    "        # Return the PCA plot as base64 string\n",
    "        return {\"pca_plot\": pca_plot}\n",
    "    except Exception as e:\n",
    "        return {\"error\": str(e)}"
   ]
  },
  {
   "cell_type": "code",
   "execution_count": 9,
   "id": "878eb6a8-3945-4b38-aee1-5c2288d5be4a",
   "metadata": {},
   "outputs": [],
   "source": [
    "import threading\n",
    "import nest_asyncio\n",
    "import uvicorn"
   ]
  },
  {
   "cell_type": "code",
   "execution_count": 10,
   "id": "6f68de02-59ad-4dc8-9fe7-7e6ebd1014d6",
   "metadata": {},
   "outputs": [
    {
     "name": "stderr",
     "output_type": "stream",
     "text": [
      "INFO:     Started server process [10088]\n",
      "INFO:     Waiting for application startup.\n",
      "INFO:     Application startup complete.\n",
      "INFO:     Uvicorn running on http://0.0.0.0:8001 (Press CTRL+C to quit)\n",
      "C:\\Users\\sb075216\\AppData\\Local\\Temp\\ipykernel_10088\\3055956558.py:5: PydanticDeprecatedSince20: The `dict` method is deprecated; use `model_dump` instead. Deprecated in Pydantic V2.0 to be removed in V3.0. See Pydantic V2 Migration Guide at https://errors.pydantic.dev/2.10/migration/\n",
      "  df = pd.DataFrame(data.dict())\n",
      "C:\\Users\\sb075216\\Desktop\\Projects\\venv\\Lib\\site-packages\\sklearn\\utils\\validation.py:2732: UserWarning: X has feature names, but IsolationForest was fitted without feature names\n",
      "  warnings.warn(\n",
      "C:\\Users\\sb075216\\Desktop\\Projects\\venv\\Lib\\site-packages\\sklearn\\utils\\validation.py:2732: UserWarning: X has feature names, but PCA was fitted without feature names\n",
      "  warnings.warn(\n"
     ]
    },
    {
     "name": "stdout",
     "output_type": "stream",
     "text": [
      "INFO:     127.0.0.1:61045 - \"POST /analyze HTTP/1.1\" 200 OK\n",
      "INFO:     127.0.0.1:61134 - \"GET /analyze HTTP/1.1\" 405 Method Not Allowed\n",
      "INFO:     127.0.0.1:61135 - \"GET / HTTP/1.1\" 404 Not Found\n"
     ]
    }
   ],
   "source": [
    "nest_asyncio.apply()\n",
    "def run_fastapi():\n",
    "    uvicorn.run(app,host=\"0.0.0.0\",port=8001)\n",
    "thread=threading.Thread(target=run_fastapi)\n",
    "thread.start()"
   ]
  },
  {
   "cell_type": "code",
   "execution_count": 11,
   "id": "e21fb388-30e0-40e7-94bf-49a8877a80e4",
   "metadata": {},
   "outputs": [],
   "source": [
    "import requests\n",
    "import base64\n",
    "from IPython.display import Image"
   ]
  },
  {
   "cell_type": "code",
   "execution_count": 12,
   "id": "dc467871-ae57-45eb-b886-1647859ef8f4",
   "metadata": {},
   "outputs": [],
   "source": [
    "# Example input data (adjust the data format based on your actual data)\n",
    "data = {\n",
    "    \"timestamp\": [\"2024-12-22 00:00:00\", \"2024-12-22 00:01:00\"],\n",
    "    \"temperature\": [30.0, 32.1],\n",
    "    \"vibration\": [0.02, 0.03],\n",
    "    \"pressure\": [101.5, 101.7],\n",
    "    \"humidity\": [45.0, 44.9],\n",
    "    \"machine_id\": [1, 1]\n",
    "}"
   ]
  },
  {
   "cell_type": "code",
   "execution_count": 13,
   "id": "b2ef7418-7c25-4111-b7cb-e2d118842502",
   "metadata": {},
   "outputs": [],
   "source": [
    "# URL of the FastAPI server\n",
    "url = 'http://127.0.0.1:8001/analyze'  # Local URL"
   ]
  },
  {
   "cell_type": "code",
   "execution_count": 14,
   "id": "5648498e-e63f-4336-8bc0-eb8264f86e69",
   "metadata": {},
   "outputs": [],
   "source": [
    "response = requests.post(url, json=data)\n",
    "\n",
    "if response.status_code == 200:\n",
    "    response_json = response.json()\n",
    "\n",
    "    if \"pca_plot\" in response_json:\n",
    "        pca_plot_base64 = response_json['pca_plot']\n",
    "\n",
    "        # Display the PCA plot (base64 image)\n",
    "        Image(data=base64.b64decode(pca_plot_base64))\n",
    "    else:\n",
    "        print(\"Error:\", response_json.get(\"error\", \"Unknown error\"))\n",
    "else:\n",
    "    print(\"Request failed with status code:\", response.status_code)"
   ]
  },
  {
   "cell_type": "code",
   "execution_count": 15,
   "id": "34d47cea-ef0e-42fb-85a2-18ab499e53cf",
   "metadata": {},
   "outputs": [
    {
     "data": {
      "image/png": "[encoded data removed]",
      "text/plain": [
       "<IPython.core.display.Image object>"
      ]
     },
     "metadata": {},
     "output_type": "display_data"
    }
   ],
   "source": [
    "from IPython.display import Image, display\n",
    "display(Image(data=base64.b64decode(pca_plot_base64)))\n"
   ]
  },
  {
   "cell_type": "code",
   "execution_count": null,
   "id": "835276df-4fd2-46c5-b3a9-402c23c93bd0",
   "metadata": {},
   "outputs": [],
   "source": []
  }
 ],
 "metadata": {
  "kernelspec": {
   "display_name": "Python 3 (ipykernel)",
   "language": "python",
   "name": "python3"
  },
  "language_info": {
   "codemirror_mode": {
    "name": "ipython",
    "version": 3
   },
   "file_extension": ".py",
   "mimetype": "text/x-python",
   "name": "python",
   "nbconvert_exporter": "python",
   "pygments_lexer": "ipython3",
   "version": "3.11.9"
  }
 },
 "nbformat": 4,
 "nbformat_minor": 5
}
